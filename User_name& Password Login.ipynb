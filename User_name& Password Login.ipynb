{
 "cells": [
  {
   "cell_type": "code",
   "execution_count": 1,
   "metadata": {},
   "outputs": [],
   "source": [
    "from tkinter import *\n",
    "import pandas as pd\n",
    "import pyodbc"
   ]
  },
  {
   "cell_type": "code",
   "execution_count": 2,
   "metadata": {},
   "outputs": [],
   "source": [
    "root=Tk()"
   ]
  },
  {
   "cell_type": "code",
   "execution_count": 3,
   "metadata": {},
   "outputs": [
    {
     "data": {
      "text/plain": [
       "''"
      ]
     },
     "execution_count": 3,
     "metadata": {},
     "output_type": "execute_result"
    }
   ],
   "source": [
    "root.geometry(\"400x300\")"
   ]
  },
  {
   "cell_type": "code",
   "execution_count": 4,
   "metadata": {},
   "outputs": [],
   "source": [
    "def Login():\n",
    "    A = e1.get()\n",
    "    B = e2.get()\n",
    "    df= pd.DataFrame.from_records([{\"user_name\":A, \"password\":B}])\n",
    "    print(df)\n",
    "    conn = pyodbc.connect(\"Driver={SQL Server Native Client 11.0};\"\n",
    "                      \"Server=LAPTOP-KAL21TPI;\"\n",
    "                      \"Database=SQLDB;\"\n",
    "                      \"Trusted_Connection=yes;\")\n",
    "    \n",
    "    cursor = conn.cursor()\n",
    "    for index, row in df.iterrows():\n",
    "        cursor.execute(\"INSERT INTO login (user_name,password) values(?,?)\", row.user_name, row.password)\n",
    "    cursor.commit()\n",
    "    conn.close()\n",
    "    e1.delete(0, END)\n",
    "    e2.delete(0, END)"
   ]
  },
  {
   "cell_type": "code",
   "execution_count": 5,
   "metadata": {},
   "outputs": [],
   "source": [
    "root.title('LoginPage')\n",
    "root.geometry(\"500x400\")\n",
    "Label(root, text='UserName').grid(row=0) \n",
    "Label(root, text='PassWord').grid(row=1)\n",
    "e1 = Entry(root) \n",
    "e2 = Entry(root)\n",
    "e1.grid(row=0, column=1) \n",
    "e2.grid(row=1, column=1)"
   ]
  },
  {
   "cell_type": "code",
   "execution_count": 6,
   "metadata": {},
   "outputs": [],
   "source": [
    "submit_btn=Button(root,text='Submit',command=Login,pady=5).grid(row=4,column=2)"
   ]
  },
  {
   "cell_type": "code",
   "execution_count": null,
   "metadata": {},
   "outputs": [],
   "source": []
  },
  {
   "cell_type": "code",
   "execution_count": null,
   "metadata": {},
   "outputs": [],
   "source": [
    "root.mainloop()"
   ]
  },
  {
   "cell_type": "code",
   "execution_count": null,
   "metadata": {},
   "outputs": [],
   "source": []
  },
  {
   "cell_type": "code",
   "execution_count": null,
   "metadata": {},
   "outputs": [],
   "source": []
  }
 ],
 "metadata": {
  "kernelspec": {
   "display_name": "Python 3",
   "language": "python",
   "name": "python3"
  },
  "language_info": {
   "codemirror_mode": {
    "name": "ipython",
    "version": 3
   },
   "file_extension": ".py",
   "mimetype": "text/x-python",
   "name": "python",
   "nbconvert_exporter": "python",
   "pygments_lexer": "ipython3",
   "version": "3.8.5"
  }
 },
 "nbformat": 4,
 "nbformat_minor": 4
}
